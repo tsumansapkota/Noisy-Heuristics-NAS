{
 "cells": [
  {
   "cell_type": "code",
   "execution_count": 200,
   "metadata": {},
   "outputs": [],
   "source": [
    "import numpy as np\n",
    "import json\n",
    "import matplotlib\n",
    "import matplotlib.pyplot as plt\n",
    "%matplotlib inline"
   ]
  },
  {
   "cell_type": "code",
   "execution_count": 247,
   "metadata": {},
   "outputs": [],
   "source": [
    "log_json = \"./output/plots/00.2_dynCNN_reuse_optim_v0_cifar10_1_event_dict.json\"\n",
    "log_file = \"./output/logs/00.2_dynCNN_reuse_optim_v0_log_1.txt\"\n",
    "\n",
    "# log_json = \"./output/plots/00.2_dynCNN_reuse_optim_v0_cifar10_3_event_dict.json\"\n",
    "# log_file = \"./output/logs/00.2_dynCNN_reuse_optim_v0_log_3.txt\"\n",
    "\n",
    "# log_json = \"./output/plots/00.2_dynCNN_reuse_optim_v1_c100_cifar100_0_event_dict.json\"\n",
    "# log_file = \"./output/logs/00.2_dynCNN_reuse_optim_v1_c100_log_0.txt\""
   ]
  },
  {
   "cell_type": "code",
   "execution_count": 248,
   "metadata": {},
   "outputs": [],
   "source": [
    "with open(log_json, 'r') as fp:\n",
    "    logs = json.load(fp)"
   ]
  },
  {
   "cell_type": "code",
   "execution_count": 249,
   "metadata": {},
   "outputs": [
    {
     "data": {
      "text/plain": [
       "dict_keys(['train_accs', 'test_accs', 'event_dict'])"
      ]
     },
     "execution_count": 249,
     "metadata": {},
     "output_type": "execute_result"
    }
   ],
   "source": [
    "logs.keys()"
   ]
  },
  {
   "cell_type": "code",
   "execution_count": 250,
   "metadata": {},
   "outputs": [
    {
     "data": {
      "text/plain": [
       "[<matplotlib.lines.Line2D at 0x7f721418b5d0>]"
      ]
     },
     "execution_count": 250,
     "metadata": {},
     "output_type": "execute_result"
    },
    {
     "data": {
      "image/png": "[encoded data removed]",
      "text/plain": [
       "<Figure size 432x288 with 1 Axes>"
      ]
     },
     "metadata": {
      "needs_background": "light"
     },
     "output_type": "display_data"
    }
   ],
   "source": [
    "plt.plot(logs['train_accs'])\n",
    "plt.plot(logs['test_accs'])"
   ]
  },
  {
   "cell_type": "code",
   "execution_count": 251,
   "metadata": {},
   "outputs": [
    {
     "data": {
      "text/plain": [
       "[[0, 'neurons added'],\n",
       " [10, 'neurons pruned'],\n",
       " [11, 'neurons added'],\n",
       " [21, 'neurons pruned'],\n",
       " [22, 'neurons added'],\n",
       " [32, 'neurons pruned'],\n",
       " [33, 'neurons added'],\n",
       " [43, 'neurons pruned'],\n",
       " [44, 'neurons added'],\n",
       " [54, 'neurons pruned'],\n",
       " [55, 'neurons added'],\n",
       " [65, 'neurons pruned'],\n",
       " [66, 'neurons added'],\n",
       " [76, 'neurons pruned'],\n",
       " [77, 'neurons added'],\n",
       " [87, 'neurons pruned'],\n",
       " [88, 'neurons added'],\n",
       " [97, 'neurons pruned'],\n",
       " [98, 'neurons added'],\n",
       " [104, 'neurons pruned'],\n",
       " [105, 'neurons added'],\n",
       " [113, 'neurons pruned'],\n",
       " [114, 'neurons added'],\n",
       " [120, 'neurons pruned'],\n",
       " [121, 'neurons added'],\n",
       " [128, 'neurons pruned'],\n",
       " [129, 'neurons added'],\n",
       " [135, 'neurons pruned'],\n",
       " [136, 'neurons added'],\n",
       " [142, 'neurons pruned'],\n",
       " [143, 'neurons added'],\n",
       " [150, 'neurons pruned'],\n",
       " [151, 'neurons added'],\n",
       " [159, 'neurons pruned'],\n",
       " [160, 'neurons added'],\n",
       " [166, 'neurons pruned'],\n",
       " [167, 'neurons added'],\n",
       " [174, 'neurons pruned'],\n",
       " [175, 'neurons added'],\n",
       " [182, 'neurons pruned'],\n",
       " [183, 'neurons added'],\n",
       " [190, 'neurons pruned'],\n",
       " [191, 'neurons added'],\n",
       " [200, 'neurons pruned'],\n",
       " [201, 'neurons added'],\n",
       " [207, 'neurons pruned'],\n",
       " [208, 'neurons added'],\n",
       " [217, 'neurons pruned'],\n",
       " [218, 'neurons added'],\n",
       " [227, 'neurons pruned'],\n",
       " [228, 'neurons added'],\n",
       " [234, 'neurons pruned'],\n",
       " [235, 'neurons added'],\n",
       " [245, 'neurons pruned'],\n",
       " [246, 'neurons added'],\n",
       " [252, 'neurons pruned'],\n",
       " [253, 'neurons added'],\n",
       " [263, 'neurons pruned'],\n",
       " [264, 'neurons added'],\n",
       " [272, 'neurons pruned'],\n",
       " [273, 'neurons added'],\n",
       " [280, 'neurons pruned'],\n",
       " [281, 'neurons added'],\n",
       " [290, 'neurons pruned'],\n",
       " [291, 'neurons added'],\n",
       " [298, 'neurons pruned'],\n",
       " [299, 'neurons added'],\n",
       " [309, 'neurons pruned'],\n",
       " [310, 'neurons added'],\n",
       " [320, 'neurons pruned'],\n",
       " [321, 'neurons added'],\n",
       " [331, 'neurons pruned'],\n",
       " [332, 'neurons added'],\n",
       " [342, 'neurons pruned'],\n",
       " [343, 'neurons added'],\n",
       " [353, 'neurons pruned'],\n",
       " [354, 'neurons added'],\n",
       " [369, 'neurons pruned'],\n",
       " [370, 'neurons added'],\n",
       " [385, 'neurons pruned']]"
      ]
     },
     "execution_count": 251,
     "metadata": {},
     "output_type": "execute_result"
    }
   ],
   "source": [
    "logs['event_dict']"
   ]
  },
  {
   "cell_type": "markdown",
   "metadata": {},
   "source": [
    "## Load parameters and epoch from log file"
   ]
  },
  {
   "cell_type": "code",
   "execution_count": 252,
   "metadata": {},
   "outputs": [],
   "source": [
    "epoch_param_acc = []\n",
    "\n",
    "with open(log_file, 'r') as f:\n",
    "#     line = f.readline()\n",
    "    while True:\n",
    "        line = f.readline()\n",
    "        if line==\"\": break\n",
    "            \n",
    "        if not line.startswith('###'): continue\n",
    "        ##### finds the first line of stats, extract epoch from here\n",
    "#         print(line.split(\"|\")[-1].strip().split(\":\")[1].strip())\n",
    "        epoch = line.split(\"|\")[-1].strip().split(\":\")[1].strip()\n",
    "        \n",
    "        line = f.readline()\n",
    "#         print(line.split(\"|\")[-1].strip().split(\":\")[1].strip())\n",
    "        params = line.split(\"|\")[-1].strip().split(\":\")[1].strip()\n",
    "#         epoch_param[int(epoch)] = int(params)\n",
    "        \n",
    "        line = f.readline()\n",
    "#         print(line.split(\"|\")[-1].strip().split(\":\")[1].strip())\n",
    "        acc = line.split(\"|\")[-1].strip().split(\":\")[1].strip()\n",
    "#         epoch_param[int(epoch)] = int(params)\n",
    "        \n",
    "    \n",
    "        epoch_param_acc.append((int(epoch), int(params), float(acc)))"
   ]
  },
  {
   "cell_type": "code",
   "execution_count": 253,
   "metadata": {},
   "outputs": [
    {
     "data": {
      "text/plain": [
       "array([[1.000000e+01, 3.800500e+04, 5.362000e+01],\n",
       "       [1.000000e+01, 2.197300e+04, 5.362000e+01],\n",
       "       [2.100000e+01, 4.626300e+04, 5.850000e+01],\n",
       "       [2.100000e+01, 2.784000e+04, 5.850000e+01],\n",
       "       [3.200000e+01, 5.588400e+04, 6.243000e+01],\n",
       "       [3.200000e+01, 3.548900e+04, 6.243000e+01],\n",
       "       [4.300000e+01, 6.782300e+04, 6.402000e+01],\n",
       "       [4.300000e+01, 4.269600e+04, 6.402000e+01],\n",
       "       [5.400000e+01, 7.495900e+04, 6.754000e+01],\n",
       "       [5.400000e+01, 5.253500e+04, 6.754000e+01],\n",
       "       [6.500000e+01, 1.092770e+05, 7.408000e+01],\n",
       "       [6.500000e+01, 7.081300e+04, 7.408000e+01],\n",
       "       [7.600000e+01, 1.315220e+05, 7.769000e+01],\n",
       "       [7.600000e+01, 9.011500e+04, 7.769000e+01],\n",
       "       [8.700000e+01, 1.584740e+05, 7.820000e+01],\n",
       "       [8.700000e+01, 1.088490e+05, 7.820000e+01],\n",
       "       [9.700000e+01, 1.847470e+05, 8.045000e+01],\n",
       "       [9.700000e+01, 1.226860e+05, 8.045000e+01],\n",
       "       [1.040000e+02, 2.064250e+05, 8.040000e+01],\n",
       "       [1.040000e+02, 1.466690e+05, 8.040000e+01],\n",
       "       [1.130000e+02, 2.312940e+05, 8.210000e+01],\n",
       "       [1.130000e+02, 1.704000e+05, 8.210000e+01],\n",
       "       [1.200000e+02, 2.680500e+05, 8.272000e+01],\n",
       "       [1.200000e+02, 1.973710e+05, 8.272000e+01],\n",
       "       [1.280000e+02, 3.039090e+05, 8.238000e+01],\n",
       "       [1.280000e+02, 2.254240e+05, 8.238000e+01],\n",
       "       [1.350000e+02, 3.391700e+05, 8.368000e+01],\n",
       "       [1.350000e+02, 2.574100e+05, 8.368000e+01],\n",
       "       [1.420000e+02, 3.754600e+05, 8.311000e+01],\n",
       "       [1.420000e+02, 2.809410e+05, 8.311000e+01],\n",
       "       [1.500000e+02, 4.131210e+05, 8.502000e+01],\n",
       "       [1.500000e+02, 3.065930e+05, 8.502000e+01],\n",
       "       [1.590000e+02, 4.495630e+05, 8.486000e+01],\n",
       "       [1.590000e+02, 3.438520e+05, 8.486000e+01],\n",
       "       [1.660000e+02, 4.967010e+05, 8.450000e+01],\n",
       "       [1.660000e+02, 3.788350e+05, 8.450000e+01],\n",
       "       [1.740000e+02, 5.353520e+05, 8.552000e+01],\n",
       "       [1.740000e+02, 4.150060e+05, 8.552000e+01],\n",
       "       [1.820000e+02, 5.856170e+05, 8.533000e+01],\n",
       "       [1.820000e+02, 4.498860e+05, 8.533000e+01],\n",
       "       [1.900000e+02, 6.269280e+05, 8.558000e+01],\n",
       "       [1.900000e+02, 4.895210e+05, 8.558000e+01],\n",
       "       [2.000000e+02, 6.750630e+05, 8.497000e+01],\n",
       "       [2.000000e+02, 5.271920e+05, 8.497000e+01],\n",
       "       [2.070000e+02, 7.117610e+05, 8.520000e+01],\n",
       "       [2.070000e+02, 5.797280e+05, 8.520000e+01],\n",
       "       [2.170000e+02, 7.767650e+05, 8.621000e+01],\n",
       "       [2.170000e+02, 6.311820e+05, 8.621000e+01],\n",
       "       [2.270000e+02, 8.469160e+05, 8.658000e+01],\n",
       "       [2.270000e+02, 6.545620e+05, 8.658000e+01],\n",
       "       [2.340000e+02, 8.603430e+05, 8.507000e+01],\n",
       "       [2.340000e+02, 7.001850e+05, 8.507000e+01],\n",
       "       [2.450000e+02, 9.250240e+05, 8.472000e+01],\n",
       "       [2.450000e+02, 7.582910e+05, 8.472000e+01],\n",
       "       [2.520000e+02, 9.959120e+05, 8.633000e+01],\n",
       "       [2.520000e+02, 8.222850e+05, 8.633000e+01],\n",
       "       [2.630000e+02, 1.062613e+06, 8.459000e+01],\n",
       "       [2.630000e+02, 8.529840e+05, 8.459000e+01],\n",
       "       [2.720000e+02, 1.102521e+06, 8.541000e+01],\n",
       "       [2.720000e+02, 8.869670e+05, 8.541000e+01],\n",
       "       [2.800000e+02, 1.130126e+06, 8.643000e+01],\n",
       "       [2.800000e+02, 9.265310e+05, 8.643000e+01],\n",
       "       [2.900000e+02, 1.191863e+06, 8.557000e+01],\n",
       "       [2.900000e+02, 9.535970e+05, 8.557000e+01],\n",
       "       [2.980000e+02, 1.219566e+06, 8.615000e+01],\n",
       "       [2.980000e+02, 1.011265e+06, 8.615000e+01],\n",
       "       [3.090000e+02, 1.286126e+06, 9.012000e+01],\n",
       "       [3.090000e+02, 1.036414e+06, 9.012000e+01],\n",
       "       [3.200000e+02, 1.302833e+06, 8.978000e+01],\n",
       "       [3.200000e+02, 1.062884e+06, 8.978000e+01],\n",
       "       [3.310000e+02, 1.309882e+06, 9.001000e+01],\n",
       "       [3.310000e+02, 1.062669e+06, 9.001000e+01],\n",
       "       [3.420000e+02, 1.318111e+06, 9.047000e+01],\n",
       "       [3.420000e+02, 1.082348e+06, 9.047000e+01],\n",
       "       [3.530000e+02, 1.340361e+06, 9.033000e+01],\n",
       "       [3.530000e+02, 1.125674e+06, 9.033000e+01],\n",
       "       [3.690000e+02, 1.386580e+06, 9.139000e+01],\n",
       "       [3.690000e+02, 1.148152e+06, 9.139000e+01],\n",
       "       [3.850000e+02, 1.415806e+06, 9.111000e+01],\n",
       "       [3.850000e+02, 1.170532e+06, 9.111000e+01]])"
      ]
     },
     "execution_count": 253,
     "metadata": {},
     "output_type": "execute_result"
    }
   ],
   "source": [
    "epoch_param_acc = np.array(epoch_param_acc)\n",
    "epoch_param_acc"
   ]
  },
  {
   "cell_type": "markdown",
   "metadata": {},
   "source": [
    "## Plot param vs accuracy plot"
   ]
  },
  {
   "cell_type": "code",
   "execution_count": 254,
   "metadata": {},
   "outputs": [],
   "source": [
    "####### CIFAR 10\n",
    "### Resnet20 , wo Dropout, inplanes=11, --> (89.21, 'resnet_20_inplanes_11_params_129359.pth')\n",
    "### Resnet20 , w Dropout, inplanes=11, --> (89.64, 'resnet20_inplanes_11_params_129359.pth')\n",
    "\n",
    "### Resnet20, w Dropout, inplanes=21, 4 blocks --> (93.2, 'resnet20_b4_inplanes_21_params_1206691.pth')\n",
    "### Resnet20, w Dropout, inplanes=21, 3 blocks --> (94.74, 'resnet20_inplanes_33_params_1153261.pth')\n",
    "\n",
    "### Resnet20, w Dropout, inplanes=9, 4 blocks --> (87.87, 'resnet20_b4_inplanes_9_params_222967.pth')\n",
    "### Resnet20, w Dropout, inplanes=13, 4 blocks --> (90.51, 'resnet20_b4_inplanes_13_params_463707.pth')\n",
    "### Resnet20, w Dropout, inplanes=17, 4 blocks --> (92.25, 'resnet20_b4_inplanes_17_params_791615.pth')"
   ]
  },
  {
   "cell_type": "code",
   "execution_count": 255,
   "metadata": {},
   "outputs": [
    {
     "data": {
      "text/plain": [
       "(366, 91.85)"
      ]
     },
     "execution_count": 255,
     "metadata": {},
     "output_type": "execute_result"
    }
   ],
   "source": [
    "max_val = np.max(logs['test_accs'])\n",
    "max_idx = np.argmax(logs['test_accs'])\n",
    "max_idx, max_val"
   ]
  },
  {
   "cell_type": "code",
   "execution_count": 256,
   "metadata": {},
   "outputs": [],
   "source": [
    "indx = np.nonzero(epoch_param_acc[:,0]>=max_idx)[0][0]"
   ]
  },
  {
   "cell_type": "code",
   "execution_count": 257,
   "metadata": {},
   "outputs": [
    {
     "data": {
      "text/plain": [
       "1386580.0"
      ]
     },
     "execution_count": 257,
     "metadata": {},
     "output_type": "execute_result"
    }
   ],
   "source": [
    "max_val_pam = epoch_param_acc[indx][1]\n",
    "max_val_pam"
   ]
  },
  {
   "cell_type": "code",
   "execution_count": 258,
   "metadata": {},
   "outputs": [
    {
     "data": {
      "image/png": "[encoded data removed]",
      "text/plain": [
       "<Figure size 288x288 with 1 Axes>"
      ]
     },
     "metadata": {
      "needs_background": "light"
     },
     "output_type": "display_data"
    }
   ],
   "source": [
    "resnet_acc = [\n",
    "    (1446917, 93.14),\n",
    "    (1206691, 93.2),\n",
    "    (791615, 92.25),\n",
    "    (463707, 90.51),\n",
    "    (222967, 87.87),\n",
    "]\n",
    "resnet_acc = np.array(resnet_acc)\n",
    "\n",
    "\n",
    "# plt.figure(figsize=(6, 4)) ### this is default value\n",
    "plt.figure(figsize=(4, 4))\n",
    "\n",
    "# plt.plot(epoch_param_acc[:,1], epoch_param_acc[:,2], marker='.')\n",
    "plt.scatter(epoch_param_acc[:,1], epoch_param_acc[:,2], marker='.', label=\"Ours\")\n",
    "\n",
    "plt.plot(resnet_acc[:,0], resnet_acc[:,1], marker='*', color='orange', label=\"Resnet-18\")\n",
    "# plt.scatter(resnet_acc[:,0], resnet_acc[:,1], marker='*', label=\"Resnet-18\")\n",
    "plt.scatter([max_val_pam], [max_val], marker='^', label=\"Max Accuracy (Ours)\")\n",
    "\n",
    "### autokeras\n",
    "cur_xlim = plt.xlim()\n",
    "plt.hlines(88.56, cur_xlim[0], cur_xlim[1], color='lime', label=\"AutoKeras*\")\n",
    "plt.xlim(cur_xlim)\n",
    "# plt.xscale('log')\n",
    "plt.xlabel(\"Number of Parameters\")\n",
    "plt.ylabel(\"Accuracy\")\n",
    "plt.legend()\n",
    "\n",
    "plt.savefig(\"./params_vs_acc_c10.pdf\")\n",
    "plt.show()"
   ]
  },
  {
   "cell_type": "code",
   "execution_count": null,
   "metadata": {},
   "outputs": [],
   "source": []
  },
  {
   "cell_type": "code",
   "execution_count": 259,
   "metadata": {},
   "outputs": [
    {
     "data": {
      "text/plain": [
       "1415806.0"
      ]
     },
     "execution_count": 259,
     "metadata": {},
     "output_type": "execute_result"
    }
   ],
   "source": [
    "epoch_param_acc[:,1].max()"
   ]
  },
  {
   "cell_type": "code",
   "execution_count": 260,
   "metadata": {},
   "outputs": [
    {
     "data": {
      "image/png": "[encoded data removed]",
      "text/plain": [
       "<Figure size 360x288 with 2 Axes>"
      ]
     },
     "metadata": {
      "needs_background": "light"
     },
     "output_type": "display_data"
    }
   ],
   "source": [
    "# plt.figure(figsize=(6, 4))\n",
    "plt.figure(figsize=(5, 4))\n",
    "\n",
    "h0 = plt.plot(logs['train_accs'], label=\"Train Accuracy\")\n",
    "h1 = plt.plot(logs['test_accs'], label=\"Test Accuracy\")\n",
    "plt.xlabel(\"Epochs\")\n",
    "plt.ylabel(\"Accuracy\")\n",
    "plt.legend(loc=2)\n",
    "ax = plt.gca()\n",
    "\n",
    "### plot epoch vs parameters as well\n",
    "ax2 = ax.twinx() \n",
    "h2 = ax2.plot(epoch_param_acc[::2,0], epoch_param_acc[::2,1], c='r', label=\"parameters\")\n",
    "ax2.set_ylabel(\"Number of Parameters\")\n",
    "ax2.legend(loc=4)\n",
    "\n",
    "plt.savefig(\"./steps_vs_acc_c10.pdf\")\n",
    "plt.show()"
   ]
  },
  {
   "cell_type": "code",
   "execution_count": 261,
   "metadata": {},
   "outputs": [
    {
     "data": {
      "text/plain": [
       "(-49274.6725, 1518164.2225)"
      ]
     },
     "execution_count": 261,
     "metadata": {},
     "output_type": "execute_result"
    },
    {
     "data": {
      "image/png": "[encoded data removed]",
      "text/plain": [
       "<Figure size 432x288 with 1 Axes>"
      ]
     },
     "metadata": {
      "needs_background": "light"
     },
     "output_type": "display_data"
    }
   ],
   "source": [
    "### plot arrows:\n",
    "for i in range(len(epoch_param_acc)-1):\n",
    "    x0, y0 = epoch_param_acc[i, 1], epoch_param_acc[i, 2]\n",
    "    x1, y1 = epoch_param_acc[i+1, 1], epoch_param_acc[i+1, 2]\n",
    "    plt.arrow(x0, y0, x1-x0, y1-y0, width=0.1)\n",
    "\n",
    "# x = \n",
    "# y = \n",
    "# u = \n",
    "# v = \n",
    "# plt.quiver()\n",
    "\n",
    "\n",
    "# plt.plot(epoch_param_acc[:,1], epoch_param_acc[:,2], marker='.')\n",
    "# plt.scatter(epoch_param_acc[:,1], epoch_param_acc[:,2], marker='.')\n",
    "\n",
    "plt.scatter(resnet_acc[:,0], resnet_acc[:,1], marker='*')\n",
    "plt.scatter([max_val_pam], [max_val], marker='o')\n",
    "\n",
    "### autokeras\n",
    "cur_xlim = plt.xlim()\n",
    "plt.hlines(88.56, cur_xlim[0], cur_xlim[1])\n",
    "plt.xlim(cur_xlim)\n",
    "# plt.xscale('log')"
   ]
  },
  {
   "cell_type": "markdown",
   "metadata": {},
   "source": [
    "## Read Meta-Parameters"
   ]
  },
  {
   "cell_type": "code",
   "execution_count": 262,
   "metadata": {},
   "outputs": [],
   "source": [
    "morph_meta_params = []\n",
    "\n",
    "meta_keys = [\"num_add_neuron\", \"add_to_remove_ratio\", \"learning_rate\", \"num_decay_steps\",\\\n",
    "                \"threshold_max\", \"threshold_min\", \"train_epoch_min\", \"threshold_max\"]\n",
    "\n",
    "with open(log_file, 'r') as f:\n",
    "#     line = f.readline()\n",
    "    while True:\n",
    "#     for i in range(100):\n",
    "        line = f.readline()\n",
    "        if line==\"\": break\n",
    "            \n",
    "        if not line.startswith('━━━━━━━━━━━━━━━━━━━'): continue\n",
    "        line = f.readline()\n",
    "        if not line.startswith('━━━━━━━━━━━━━━━━━━━'): continue\n",
    "            \n",
    "        \n",
    "        values = []\n",
    "        for key in meta_keys:\n",
    "            line = f.readline()\n",
    "            val = line.split(f'{key} :')[-1].strip()\n",
    "            values.append(val)\n",
    "\n",
    "#         print(keys, values)\n",
    "\n",
    "#         line = f.readline()\n",
    "#         add_rm_ratio = float(line.split('num_add_neuron :')[-1].strip())\n",
    "        \n",
    "#         line = f.readline()\n",
    "#         add_rm_ratio = float(line.split('num_decay_steps :')[-1].strip())\n",
    "        \n",
    "        \n",
    "        \n",
    "        \n",
    "        ##### finds the first line of stats, extract epoch from here\n",
    "#         epoch = line.split(\"|\")[-1].strip().split(\":\")[1].strip()\n",
    "\n",
    "#         line = f.readline()\n",
    "#         params = line.split(\"|\")[-1].strip().split(\":\")[1].strip()\n",
    "        \n",
    "#         line = f.readline()\n",
    "#         acc = line.split(\"|\")[-1].strip().split(\":\")[1].strip()\n",
    "#         print(line.split(\"|\"))\n",
    "#         print(f.readline())\n",
    "#         print(f.readline())\n",
    "#         print(f.readline())\n",
    "        \n",
    "        \n",
    "        morph_meta_params.append(\n",
    "        (int(values[0]), float(values[1]), float(values[2]), float(values[3]), \n",
    "         float(values[4]), float(values[5]), float(values[6]), float(values[7]), )\n",
    "        )"
   ]
  },
  {
   "cell_type": "code",
   "execution_count": 263,
   "metadata": {},
   "outputs": [
    {
     "data": {
      "text/plain": [
       "(80, 80)"
      ]
     },
     "execution_count": 263,
     "metadata": {},
     "output_type": "execute_result"
    }
   ],
   "source": [
    "len(morph_meta_params), len(epoch_param_acc) ### same values == 1to1 mapping"
   ]
  },
  {
   "cell_type": "code",
   "execution_count": 264,
   "metadata": {},
   "outputs": [
    {
     "data": {
      "text/plain": [
       "[(50, 1.7, 0.001, 4689.0, 0.5, 0.01, 1.0, 10.0),\n",
       " (50, 1.7, 0.001, 4689.0, 0.5, 0.01, 1.0, 10.0),\n",
       " (50, 1.7, 0.001, 4689.0, 0.5, 0.01, 1.0, 10.0),\n",
       " (50, 1.7, 0.001, 4689.0, 0.5, 0.01, 1.0, 10.0),\n",
       " (50, 1.7, 0.001, 4689.0, 0.5, 0.01, 1.0, 10.0),\n",
       " (50, 1.7, 0.001, 4689.0, 0.5, 0.01, 1.0, 10.0),\n",
       " (50, 1.7, 0.001, 4689.0, 0.5, 0.01, 1.0, 10.0),\n",
       " (50, 1.7, 0.001, 4689.0, 0.5, 0.01, 1.0, 10.0),\n",
       " (50, 1.7, 0.001, 4689.0, 0.5, 0.01, 1.0, 10.0),\n",
       " (80, 2.0, 0.0005, 4689.0, 0.5, 0.01, 1.0, 10.0),\n",
       " (80, 2.0, 0.0005, 4689.0, 0.5, 0.01, 1.0, 10.0),\n",
       " (80, 2.0, 0.0005, 4689.0, 0.5, 0.01, 1.0, 10.0),\n",
       " (80, 2.0, 0.0005, 4689.0, 0.5, 0.01, 1.0, 10.0),\n",
       " (80, 2.0, 0.0005, 4689.0, 0.5, 0.01, 1.0, 10.0),\n",
       " (80, 2.0, 0.0005, 4689.0, 0.5, 0.01, 1.0, 10.0),\n",
       " (80, 2.0, 0.0005, 4689.0, 0.5, 0.01, 1.0, 10.0),\n",
       " (80, 2.0, 0.0005, 4689.0, 0.5, 0.01, 1.0, 10.0),\n",
       " (80, 2.0, 0.0005, 4689.0, 0.5, 0.01, 1.0, 10.0),\n",
       " (80, 2.0, 0.0005, 4689.0, 0.5, 0.01, 1.0, 10.0),\n",
       " (80, 2.0, 0.0005, 4689.0, 0.5, 0.01, 1.0, 10.0),\n",
       " (80, 2.0, 0.0005, 4689.0, 0.5, 0.01, 1.0, 10.0),\n",
       " (80, 2.0, 0.0005, 4689.0, 0.5, 0.01, 1.0, 10.0),\n",
       " (80, 2.0, 0.0005, 4689.0, 0.5, 0.01, 1.0, 10.0),\n",
       " (80, 2.0, 0.0005, 4689.0, 0.5, 0.01, 1.0, 10.0),\n",
       " (80, 2.0, 0.0005, 4689.0, 0.5, 0.01, 1.0, 10.0),\n",
       " (80, 2.0, 0.0005, 4689.0, 0.5, 0.01, 1.0, 10.0),\n",
       " (80, 2.0, 0.0005, 4689.0, 0.5, 0.01, 1.0, 10.0),\n",
       " (80, 2.0, 0.0005, 4689.0, 0.5, 0.01, 1.0, 10.0),\n",
       " (80, 2.0, 0.0005, 4689.0, 0.5, 0.01, 1.0, 10.0),\n",
       " (80, 2.0, 0.0005, 4689.0, 0.5, 0.01, 1.0, 10.0),\n",
       " (80, 2.0, 0.0005, 4689.0, 0.5, 0.01, 1.0, 10.0),\n",
       " (80, 2.0, 0.0005, 4689.0, 0.5, 0.01, 1.0, 10.0),\n",
       " (80, 2.0, 0.0005, 4689.0, 0.5, 0.01, 1.0, 10.0),\n",
       " (80, 2.0, 0.0005, 4689.0, 0.5, 0.01, 1.0, 10.0),\n",
       " (80, 2.0, 0.0005, 4689.0, 0.5, 0.01, 1.0, 10.0),\n",
       " (80, 2.0, 0.0005, 4689.0, 0.5, 0.01, 1.0, 10.0),\n",
       " (80, 2.0, 0.0005, 4689.0, 0.5, 0.01, 1.0, 10.0),\n",
       " (80, 2.0, 0.0005, 4689.0, 0.5, 0.01, 1.0, 10.0),\n",
       " (80, 2.0, 0.0005, 4689.0, 0.5, 0.01, 1.0, 10.0),\n",
       " (80, 2.0, 0.0005, 4689.0, 0.5, 0.01, 1.0, 10.0),\n",
       " (80, 2.0, 0.0005, 4689.0, 0.5, 0.01, 1.0, 10.0),\n",
       " (80, 2.0, 0.0005, 4689.0, 0.5, 0.01, 1.0, 10.0),\n",
       " (80, 2.0, 0.0005, 4689.0, 0.5, 0.01, 1.0, 10.0),\n",
       " (80, 2.0, 0.0005, 4689.0, 0.5, 0.01, 1.0, 10.0),\n",
       " (80, 2.0, 0.0005, 4689.0, 0.5, 0.01, 1.0, 10.0),\n",
       " (80, 2.0, 0.0005, 4689.0, 0.5, 0.01, 1.0, 10.0),\n",
       " (80, 2.0, 0.0005, 4689.0, 0.5, 0.01, 1.0, 10.0),\n",
       " (80, 2.0, 0.0005, 4689.0, 0.5, 0.01, 1.0, 10.0),\n",
       " (80, 2.0, 0.0005, 4689.0, 0.5, 0.01, 1.0, 10.0),\n",
       " (80, 2.0, 0.0005, 4689.0, 0.5, 0.01, 1.0, 10.0),\n",
       " (80, 2.0, 0.0005, 4689.0, 0.5, 0.01, 1.0, 10.0),\n",
       " (80, 2.0, 0.0005, 4689.0, 0.5, 0.01, 1.0, 10.0),\n",
       " (80, 2.0, 0.0005, 4689.0, 0.5, 0.01, 1.0, 10.0),\n",
       " (80, 2.0, 0.0005, 4689.0, 0.5, 0.01, 1.0, 10.0),\n",
       " (80, 2.0, 0.0005, 4689.0, 0.5, 0.01, 1.0, 10.0),\n",
       " (80, 2.0, 0.0005, 4689.0, 0.5, 0.01, 1.0, 10.0),\n",
       " (80, 2.0, 0.0005, 4689.0, 0.5, 0.01, 1.0, 10.0),\n",
       " (80, 2.0, 0.0005, 4689.0, 0.5, 0.01, 1.0, 10.0),\n",
       " (80, 2.0, 0.0005, 4689.0, 0.5, 0.01, 1.0, 10.0),\n",
       " (80, 2.0, 0.0005, 4689.0, 0.5, 0.01, 1.0, 10.0),\n",
       " (80, 2.0, 0.0005, 4689.0, 0.5, 0.01, 1.0, 10.0),\n",
       " (80, 2.0, 0.0005, 4689.0, 0.5, 0.01, 1.0, 10.0),\n",
       " (80, 2.0, 0.0005, 4689.0, 0.5, 0.01, 1.0, 10.0),\n",
       " (80, 2.0, 0.0005, 4689.0, 0.5, 0.01, 1.0, 10.0),\n",
       " (80, 2.0, 0.0005, 4689.0, 0.5, 0.01, 1.0, 10.0),\n",
       " (80, 2.0, 0.0002, 4689.0, 0.5, 0.01, 1.0, 10.0),\n",
       " (80, 2.0, 0.0002, 4689.0, 0.5, 0.01, 1.0, 10.0),\n",
       " (80, 2.0, 0.0002, 4689.0, 0.5, 0.01, 1.0, 10.0),\n",
       " (80, 2.0, 0.0002, 4689.0, 0.5, 0.01, 1.0, 10.0),\n",
       " (80, 2.0, 0.0002, 4689.0, 0.5, 0.01, 1.0, 10.0),\n",
       " (80, 2.0, 0.0002, 4689.0, 0.5, 0.01, 1.0, 10.0),\n",
       " (80, 2.0, 0.0002, 4689.0, 0.5, 0.01, 1.0, 10.0),\n",
       " (80, 2.0, 0.0002, 4689.0, 0.5, 0.01, 1.0, 10.0),\n",
       " (80, 2.0, 0.0002, 4689.0, 0.5, 0.01, 1.0, 10.0),\n",
       " (80, 2.0, 0.0002, 4689.0, 0.5, 0.01, 1.0, 10.0),\n",
       " (80, 2.0, 0.0001, 4689.0, 0.5, 0.01, 1.0, 15.0),\n",
       " (80, 2.0, 0.0001, 4689.0, 0.5, 0.01, 1.0, 15.0),\n",
       " (80, 2.0, 0.0001, 4689.0, 0.5, 0.01, 1.0, 15.0),\n",
       " (80, 2.0, 0.0001, 4689.0, 0.5, 0.01, 1.0, 15.0),\n",
       " (80, 2.0, 0.0001, 4689.0, 0.5, 0.01, 1.0, 15.0)]"
      ]
     },
     "execution_count": 264,
     "metadata": {},
     "output_type": "execute_result"
    }
   ],
   "source": [
    "morph_meta_params"
   ]
  },
  {
   "cell_type": "code",
   "execution_count": 265,
   "metadata": {},
   "outputs": [],
   "source": [
    "morph_meta_params = np.array(morph_meta_params)"
   ]
  },
  {
   "cell_type": "code",
   "execution_count": 266,
   "metadata": {},
   "outputs": [
    {
     "data": {
      "image/png": "[encoded data removed]",
      "text/plain": [
       "<Figure size 576x288 with 4 Axes>"
      ]
     },
     "metadata": {
      "needs_background": "light"
     },
     "output_type": "display_data"
    }
   ],
   "source": [
    "### Plotting meta parameters\n",
    "# plt.figure(figsize=(8, 6))\n",
    "fig, axes = plt.subplots(2,2, figsize=(8, 4), constrained_layout=True)\n",
    "(ax00, ax01), (ax10, ax11) = axes\n",
    "\n",
    "\n",
    "# ax00 = plt.subplot(221)\n",
    "epochs = epoch_param_acc[:,0]\n",
    "num_add = morph_meta_params[:, 0]\n",
    "ax00.plot(epochs, num_add)\n",
    "ax00.set_ylabel(\"num neurons add\")\n",
    "# plt.show()\n",
    "\n",
    "# ax01 = plt.subplot(222)\n",
    "add2rem = morph_meta_params[:,1]\n",
    "ax01.plot(epochs, add2rem)\n",
    "ax01.plot(epochs, add2rem*0+1, linestyle='dashed', alpha=0.5) ## plotting straight line\n",
    "ax01.set_ylabel(\"add to remove ratio\")\n",
    "# plt.show()\n",
    "\n",
    "# ax10 = plt.subplot(223)\n",
    "lr = morph_meta_params[:,2]\n",
    "ax10.plot(epochs, lr)\n",
    "ax10.set_ylabel(\"learning rate\")\n",
    "# plt.show()\n",
    "\n",
    "# ax11 = plt.subplot(224)\n",
    "trmax = morph_meta_params[:,7]\n",
    "ax11.plot(epochs, trmax)\n",
    "ax11.set_ylabel(\"train epoch max\")\n",
    "\n",
    "plt.savefig(\"./meta-params_c10.pdf\", bbox_inches='tight')\n",
    "plt.show()"
   ]
  },
  {
   "cell_type": "code",
   "execution_count": 166,
   "metadata": {},
   "outputs": [
    {
     "data": {
      "text/plain": [
       "array([[<AxesSubplot:>, <AxesSubplot:>],\n",
       "       [<AxesSubplot:>, <AxesSubplot:ylabel='train epoch max'>]],\n",
       "      dtype=object)"
      ]
     },
     "execution_count": 166,
     "metadata": {},
     "output_type": "execute_result"
    }
   ],
   "source": [
    "axes"
   ]
  },
  {
   "cell_type": "code",
   "execution_count": null,
   "metadata": {},
   "outputs": [],
   "source": []
  }
 ],
 "metadata": {
  "kernelspec": {
   "display_name": "Python 3",
   "language": "python",
   "name": "python3"
  },
  "language_info": {
   "codemirror_mode": {
    "name": "ipython",
    "version": 3
   },
   "file_extension": ".py",
   "mimetype": "text/x-python",
   "name": "python",
   "nbconvert_exporter": "python",
   "pygments_lexer": "ipython3",
   "version": "3.7.4"
  }
 },
 "nbformat": 4,
 "nbformat_minor": 4
}
