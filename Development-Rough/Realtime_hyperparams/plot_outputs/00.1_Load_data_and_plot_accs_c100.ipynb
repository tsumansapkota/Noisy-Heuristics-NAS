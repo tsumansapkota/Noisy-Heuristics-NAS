{
 "cells": [
  {
   "cell_type": "code",
   "execution_count": 17,
   "metadata": {},
   "outputs": [],
   "source": [
    "import numpy as np\n",
    "import json\n",
    "import matplotlib\n",
    "import matplotlib.pyplot as plt\n",
    "%matplotlib inline"
   ]
  },
  {
   "cell_type": "code",
   "execution_count": 18,
   "metadata": {},
   "outputs": [],
   "source": [
    "# log_json = \"./output/plots/00.2_dynCNN_reuse_optim_v0_cifar10_1_event_dict.json\"\n",
    "# log_file = \"./output/logs/00.2_dynCNN_reuse_optim_v0_log_1.txt\"\n",
    "\n",
    "log_json = \"./output/plots/00.2_dynCNN_reuse_optim_v1_c100_cifar100_1_event_dict.json\"\n",
    "log_file = \"./output/logs/00.2_dynCNN_reuse_optim_v1_c100_log_1.txt\""
   ]
  },
  {
   "cell_type": "code",
   "execution_count": 19,
   "metadata": {},
   "outputs": [],
   "source": [
    "with open(log_json, 'r') as fp:\n",
    "    logs = json.load(fp)"
   ]
  },
  {
   "cell_type": "code",
   "execution_count": 20,
   "metadata": {},
   "outputs": [
    {
     "data": {
      "text/plain": [
       "dict_keys(['train_accs', 'test_accs', 'event_dict'])"
      ]
     },
     "execution_count": 20,
     "metadata": {},
     "output_type": "execute_result"
    }
   ],
   "source": [
    "logs.keys()"
   ]
  },
  {
   "cell_type": "code",
   "execution_count": 21,
   "metadata": {},
   "outputs": [
    {
     "data": {
      "text/plain": [
       "[<matplotlib.lines.Line2D at 0x7f03c9edeb50>]"
      ]
     },
     "execution_count": 21,
     "metadata": {},
     "output_type": "execute_result"
    },
    {
     "data": {
      "image/png": "[encoded data removed]",
      "text/plain": [
       "<Figure size 432x288 with 1 Axes>"
      ]
     },
     "metadata": {
      "needs_background": "light"
     },
     "output_type": "display_data"
    }
   ],
   "source": [
    "plt.plot(logs['train_accs'])\n",
    "plt.plot(logs['test_accs'])"
   ]
  },
  {
   "cell_type": "code",
   "execution_count": 22,
   "metadata": {},
   "outputs": [
    {
     "data": {
      "text/plain": [
       "[[0, 'neurons added'],\n",
       " [16, 'neurons decayed'],\n",
       " [20, 'neurons pruned'],\n",
       " [21, 'neurons added'],\n",
       " [37, 'neurons decayed'],\n",
       " [41, 'neurons pruned'],\n",
       " [42, 'neurons added'],\n",
       " [58, 'neurons decayed'],\n",
       " [62, 'neurons pruned'],\n",
       " [63, 'neurons added'],\n",
       " [67, 'neurons decayed'],\n",
       " [71, 'neurons pruned'],\n",
       " [72, 'neurons added'],\n",
       " [75, 'neurons decayed'],\n",
       " [79, 'neurons pruned'],\n",
       " [80, 'neurons added'],\n",
       " [96, 'neurons decayed'],\n",
       " [100, 'neurons pruned'],\n",
       " [101, 'neurons added'],\n",
       " [117, 'neurons decayed'],\n",
       " [121, 'neurons pruned'],\n",
       " [122, 'neurons added'],\n",
       " [138, 'neurons decayed'],\n",
       " [142, 'neurons pruned'],\n",
       " [143, 'neurons added'],\n",
       " [159, 'neurons decayed'],\n",
       " [163, 'neurons pruned'],\n",
       " [164, 'neurons added'],\n",
       " [180, 'neurons decayed'],\n",
       " [184, 'neurons pruned'],\n",
       " [185, 'neurons added'],\n",
       " [201, 'neurons decayed'],\n",
       " [205, 'neurons pruned'],\n",
       " [206, 'neurons added'],\n",
       " [222, 'neurons decayed'],\n",
       " [226, 'neurons pruned'],\n",
       " [227, 'neurons added'],\n",
       " [243, 'neurons decayed'],\n",
       " [247, 'neurons pruned'],\n",
       " [248, 'neurons added'],\n",
       " [264, 'neurons decayed'],\n",
       " [268, 'neurons pruned'],\n",
       " [269, 'neurons added'],\n",
       " [285, 'neurons decayed'],\n",
       " [289, 'neurons pruned'],\n",
       " [290, 'neurons added'],\n",
       " [306, 'neurons decayed'],\n",
       " [310, 'neurons pruned'],\n",
       " [311, 'neurons added'],\n",
       " [327, 'neurons decayed'],\n",
       " [331, 'neurons pruned'],\n",
       " [332, 'neurons added'],\n",
       " [348, 'neurons decayed'],\n",
       " [352, 'neurons pruned'],\n",
       " [353, 'neurons added'],\n",
       " [369, 'neurons decayed'],\n",
       " [373, 'neurons pruned'],\n",
       " [374, 'neurons added'],\n",
       " [390, 'neurons decayed'],\n",
       " [394, 'neurons pruned'],\n",
       " [395, 'neurons added'],\n",
       " [411, 'neurons decayed'],\n",
       " [415, 'neurons pruned'],\n",
       " [416, 'neurons added'],\n",
       " [432, 'neurons decayed'],\n",
       " [436, 'neurons pruned'],\n",
       " [437, 'neurons added'],\n",
       " [440, 'neurons decayed'],\n",
       " [444, 'neurons pruned'],\n",
       " [445, 'neurons added'],\n",
       " [461, 'neurons decayed'],\n",
       " [465, 'neurons pruned'],\n",
       " [466, 'neurons added'],\n",
       " [470, 'neurons decayed'],\n",
       " [474, 'neurons pruned'],\n",
       " [475, 'neurons added'],\n",
       " [478, 'neurons decayed'],\n",
       " [482, 'neurons pruned']]"
      ]
     },
     "execution_count": 22,
     "metadata": {},
     "output_type": "execute_result"
    }
   ],
   "source": [
    "logs['event_dict']"
   ]
  },
  {
   "cell_type": "markdown",
   "metadata": {},
   "source": [
    "## Load parameters and epoch from log file"
   ]
  },
  {
   "cell_type": "code",
   "execution_count": 23,
   "metadata": {},
   "outputs": [],
   "source": [
    "epoch_param_acc = []\n",
    "\n",
    "with open(log_file, 'r') as f:\n",
    "#     line = f.readline()\n",
    "    while True:\n",
    "        line = f.readline()\n",
    "        if line==\"\": break\n",
    "            \n",
    "        if not line.startswith('###'): continue\n",
    "        ##### finds the first line of stats, extract epoch from here\n",
    "#         print(line.split(\"|\")[-1].strip().split(\":\")[1].strip())\n",
    "        epoch = line.split(\"|\")[-1].strip().split(\":\")[1].strip()\n",
    "        \n",
    "        line = f.readline()\n",
    "#         print(line.split(\"|\")[-1].strip().split(\":\")[1].strip())\n",
    "        params = line.split(\"|\")[-1].strip().split(\":\")[1].strip()\n",
    "#         epoch_param[int(epoch)] = int(params)\n",
    "        \n",
    "        line = f.readline()\n",
    "#         print(line.split(\"|\")[-1].strip().split(\":\")[1].strip())\n",
    "        acc = line.split(\"|\")[-1].strip().split(\":\")[1].strip()\n",
    "#         epoch_param[int(epoch)] = int(params)\n",
    "        \n",
    "    \n",
    "        epoch_param_acc.append((int(epoch), int(params), float(acc)))"
   ]
  },
  {
   "cell_type": "code",
   "execution_count": 24,
   "metadata": {},
   "outputs": [
    {
     "data": {
      "text/plain": [
       "array([[1.50000e+01, 1.69144e+05, 2.17200e+01],\n",
       "       [2.00000e+01, 1.35838e+05, 2.25000e+01],\n",
       "       [3.60000e+01, 2.03506e+05, 3.09400e+01],\n",
       "       [4.10000e+01, 1.53836e+05, 3.10600e+01],\n",
       "       [5.70000e+01, 2.27244e+05, 3.79900e+01],\n",
       "       [6.20000e+01, 1.71069e+05, 3.73100e+01],\n",
       "       [6.60000e+01, 2.45308e+05, 3.73400e+01],\n",
       "       [7.10000e+01, 1.89820e+05, 4.16400e+01],\n",
       "       [7.40000e+01, 2.62569e+05, 4.16800e+01],\n",
       "       [7.90000e+01, 1.98711e+05, 4.46300e+01],\n",
       "       [9.50000e+01, 2.67959e+05, 4.88300e+01],\n",
       "       [1.00000e+02, 2.20125e+05, 4.84300e+01],\n",
       "       [1.16000e+02, 2.97005e+05, 5.25700e+01],\n",
       "       [1.21000e+02, 2.39704e+05, 5.11500e+01],\n",
       "       [1.37000e+02, 3.16103e+05, 5.45500e+01],\n",
       "       [1.42000e+02, 2.60911e+05, 5.34000e+01],\n",
       "       [1.58000e+02, 3.42138e+05, 5.67500e+01],\n",
       "       [1.63000e+02, 2.80067e+05, 5.55100e+01],\n",
       "       [1.79000e+02, 3.61402e+05, 5.84900e+01],\n",
       "       [1.84000e+02, 2.84855e+05, 5.67400e+01],\n",
       "       [2.00000e+02, 3.74403e+05, 5.94100e+01],\n",
       "       [2.05000e+02, 2.99817e+05, 5.80200e+01],\n",
       "       [2.21000e+02, 3.93254e+05, 6.05600e+01],\n",
       "       [2.26000e+02, 3.14889e+05, 5.81300e+01],\n",
       "       [2.42000e+02, 4.06687e+05, 6.08800e+01],\n",
       "       [2.47000e+02, 3.37975e+05, 5.96000e+01],\n",
       "       [2.63000e+02, 4.40496e+05, 6.07900e+01],\n",
       "       [2.68000e+02, 3.63606e+05, 6.01600e+01],\n",
       "       [2.84000e+02, 4.65103e+05, 6.16500e+01],\n",
       "       [2.89000e+02, 3.91107e+05, 6.06500e+01],\n",
       "       [3.05000e+02, 5.00145e+05, 6.28100e+01],\n",
       "       [3.10000e+02, 4.09993e+05, 6.16900e+01],\n",
       "       [3.26000e+02, 5.17033e+05, 6.38200e+01],\n",
       "       [3.31000e+02, 4.17715e+05, 6.15700e+01],\n",
       "       [3.47000e+02, 5.32130e+05, 6.32200e+01],\n",
       "       [3.52000e+02, 4.16259e+05, 6.07600e+01],\n",
       "       [3.68000e+02, 5.37816e+05, 6.32600e+01],\n",
       "       [3.73000e+02, 4.50710e+05, 6.17200e+01],\n",
       "       [3.89000e+02, 5.75068e+05, 6.41100e+01],\n",
       "       [3.94000e+02, 4.88695e+05, 6.41300e+01],\n",
       "       [4.10000e+02, 6.19595e+05, 6.58200e+01],\n",
       "       [4.15000e+02, 5.09902e+05, 6.39800e+01],\n",
       "       [4.31000e+02, 6.54026e+05, 6.59400e+01],\n",
       "       [4.36000e+02, 5.49118e+05, 6.38600e+01],\n",
       "       [4.39000e+02, 7.09903e+05, 6.38800e+01],\n",
       "       [4.44000e+02, 5.79240e+05, 6.27800e+01],\n",
       "       [4.60000e+02, 7.36417e+05, 6.50400e+01],\n",
       "       [4.65000e+02, 6.20073e+05, 6.41600e+01],\n",
       "       [4.69000e+02, 7.79884e+05, 6.37700e+01],\n",
       "       [4.74000e+02, 6.61479e+05, 6.45700e+01],\n",
       "       [4.77000e+02, 8.37850e+05, 6.44000e+01],\n",
       "       [4.82000e+02, 6.75792e+05, 6.31000e+01]])"
      ]
     },
     "execution_count": 24,
     "metadata": {},
     "output_type": "execute_result"
    }
   ],
   "source": [
    "epoch_param_acc = np.array(epoch_param_acc)\n",
    "epoch_param_acc"
   ]
  },
  {
   "cell_type": "markdown",
   "metadata": {},
   "source": [
    "## Plot param vs accuracy plot"
   ]
  },
  {
   "cell_type": "code",
   "execution_count": 25,
   "metadata": {},
   "outputs": [],
   "source": [
    "######## Cifar 100 --> default: 128 batch size\n",
    "\n",
    "### (62.44, 'resnet20_b4_c100_inplanes_12_params_404080_bs128.pth') \n",
    "### (63.7, 'resnet20_b4_c100_inplanes_12_params_404080.pth') --> 32 batch size\n",
    "### (65.43, 'resnet20_b4_c100_inplanes_15_params_627655_bs128.pth')\n",
    "### (67.01, 'resnet20_b4_c100_inplanes_17_params_803945_bs128.pth')"
   ]
  },
  {
   "cell_type": "code",
   "execution_count": 26,
   "metadata": {},
   "outputs": [
    {
     "data": {
      "text/plain": [
       "(429, 65.98)"
      ]
     },
     "execution_count": 26,
     "metadata": {},
     "output_type": "execute_result"
    }
   ],
   "source": [
    "max_val = np.max(logs['test_accs'])\n",
    "max_idx = np.argmax(logs['test_accs'])\n",
    "max_idx, max_val"
   ]
  },
  {
   "cell_type": "code",
   "execution_count": 27,
   "metadata": {},
   "outputs": [],
   "source": [
    "indx = np.nonzero(epoch_param_acc[:,0]>=max_idx)[0][0]"
   ]
  },
  {
   "cell_type": "code",
   "execution_count": 28,
   "metadata": {},
   "outputs": [
    {
     "data": {
      "text/plain": [
       "654026.0"
      ]
     },
     "execution_count": 28,
     "metadata": {},
     "output_type": "execute_result"
    }
   ],
   "source": [
    "max_val_pam = epoch_param_acc[indx][1]\n",
    "max_val_pam"
   ]
  },
  {
   "cell_type": "code",
   "execution_count": 29,
   "metadata": {},
   "outputs": [
    {
     "data": {
      "image/png": "[encoded data removed]",
      "text/plain": [
       "<Figure size 288x288 with 1 Axes>"
      ]
     },
     "metadata": {
      "needs_background": "light"
     },
     "output_type": "display_data"
    }
   ],
   "source": [
    "resnet_acc = [\n",
    "    (229537, 57.18),\n",
    "    (404080, 62.44),\n",
    "    (627655, 65.43),\n",
    "    (803945, 67.01),\n",
    "]\n",
    "resnet_acc = np.array(resnet_acc)\n",
    "\n",
    "plt.figure(figsize=(4, 4))\n",
    "\n",
    "# plt.plot(epoch_param_acc[:,1], epoch_param_acc[:,2], marker='.')\n",
    "plt.scatter(epoch_param_acc[:,1], epoch_param_acc[:,2], marker='.', label=\"Ours\")\n",
    "\n",
    "# plt.scatter(resnet_acc[:,0], resnet_acc[:,1], marker='*', label=\"Resnet-18\")\n",
    "plt.plot(resnet_acc[:,0], resnet_acc[:,1], marker='*', color='orange', label=\"Resnet-18\")\n",
    "\n",
    "plt.scatter([max_val_pam], [max_val], marker='^', color='g', label=\"Max Accuracy (Ours)\", zorder=5)\n",
    "\n",
    "# plt.xscale('log')\n",
    "plt.xlabel(\"Number of Parameters\")\n",
    "plt.ylabel(\"Accuracy\")\n",
    "plt.legend()\n",
    "\n",
    "plt.savefig(\"./params_vs_acc_c100.pdf\")\n",
    "plt.show()"
   ]
  },
  {
   "cell_type": "code",
   "execution_count": 30,
   "metadata": {},
   "outputs": [
    {
     "data": {
      "text/plain": [
       "array([169144., 135838., 203506., 153836., 227244., 171069., 245308.,\n",
       "       189820., 262569., 198711., 267959., 220125., 297005., 239704.,\n",
       "       316103., 260911., 342138., 280067., 361402., 284855., 374403.,\n",
       "       299817., 393254., 314889., 406687., 337975., 440496., 363606.,\n",
       "       465103., 391107., 500145., 409993., 517033., 417715., 532130.,\n",
       "       416259., 537816., 450710., 575068., 488695., 619595., 509902.,\n",
       "       654026., 549118., 709903., 579240., 736417., 620073., 779884.,\n",
       "       661479., 837850., 675792.])"
      ]
     },
     "execution_count": 30,
     "metadata": {},
     "output_type": "execute_result"
    }
   ],
   "source": [
    "epoch_param_acc[:,1]"
   ]
  },
  {
   "cell_type": "code",
   "execution_count": 31,
   "metadata": {},
   "outputs": [
    {
     "data": {
      "image/png": "[encoded data removed]",
      "text/plain": [
       "<Figure size 432x288 with 2 Axes>"
      ]
     },
     "metadata": {
      "needs_background": "light"
     },
     "output_type": "display_data"
    }
   ],
   "source": [
    "\n",
    "\n",
    "h0 = plt.plot(logs['train_accs'], label=\"Train Accuracy\")\n",
    "h1 = plt.plot(logs['test_accs'], label=\"Test Accuracy\")\n",
    "plt.xlabel(\"Epochs\")\n",
    "plt.ylabel(\"Accuracy\")\n",
    "plt.legend(loc=2)\n",
    "ax = plt.gca()\n",
    "\n",
    "### plot epoch vs parameters as well\n",
    "ax2 = ax.twinx() \n",
    "h2 = ax2.plot(epoch_param_acc[::2,0], epoch_param_acc[::2,1], c='r', label=\"parameters\")\n",
    "ax2.set_ylabel(\"Number of Parameters\")\n",
    "ax2.legend(loc=4)\n",
    "\n",
    "plt.savefig(\"./steps_vs_acc_c100.pdf\", bbox_inches='tight')\n",
    "plt.show()"
   ]
  },
  {
   "cell_type": "code",
   "execution_count": 32,
   "metadata": {},
   "outputs": [
    {
     "data": {
      "text/plain": [
       "<matplotlib.collections.PathCollection at 0x7f03c9c8aed0>"
      ]
     },
     "execution_count": 32,
     "metadata": {},
     "output_type": "execute_result"
    },
    {
     "data": {
      "image/png": "[encoded data removed]",
      "text/plain": [
       "<Figure size 432x288 with 1 Axes>"
      ]
     },
     "metadata": {
      "needs_background": "light"
     },
     "output_type": "display_data"
    }
   ],
   "source": [
    "### plot arrows:\n",
    "for i in range(len(epoch_param_acc)-1):\n",
    "    x0, y0 = epoch_param_acc[i, 1], epoch_param_acc[i, 2]\n",
    "    x1, y1 = epoch_param_acc[i+1, 1], epoch_param_acc[i+1, 2]\n",
    "    plt.arrow(x0, y0, x1-x0, y1-y0, width=0.1)\n",
    "\n",
    "# plt.plot(epoch_param_acc[:,1], epoch_param_acc[:,2], marker='.')\n",
    "# plt.scatter(epoch_param_acc[:,1], epoch_param_acc[:,2], marker='.')\n",
    "\n",
    "plt.scatter(resnet_acc[:,0], resnet_acc[:,1], marker='*')\n",
    "plt.scatter([max_val_pam], [max_val], marker='o')\n"
   ]
  },
  {
   "cell_type": "markdown",
   "metadata": {},
   "source": [
    "## Read Meta-Parameters"
   ]
  },
  {
   "cell_type": "code",
   "execution_count": 33,
   "metadata": {},
   "outputs": [],
   "source": [
    "morph_meta_params = []\n",
    "\n",
    "meta_keys = [\"num_add_neuron\", \"add_to_remove_ratio\", \"learning_rate\", \"num_decay_steps\",\\\n",
    "                \"threshold_max\", \"threshold_min\", \"train_epoch_min\", \"threshold_max\"]\n",
    "\n",
    "with open(log_file, 'r') as f:\n",
    "#     line = f.readline()\n",
    "    while True:\n",
    "#     for i in range(100):\n",
    "        line = f.readline()\n",
    "        if line==\"\": break\n",
    "            \n",
    "        if not line.startswith('━━━━━━━━━━━━━━━━━━━'): continue\n",
    "        line = f.readline()\n",
    "        if not line.startswith('━━━━━━━━━━━━━━━━━━━'): continue\n",
    "            \n",
    "        \n",
    "        values = []\n",
    "        for key in meta_keys:\n",
    "            line = f.readline()\n",
    "            val = line.split(f'{key} :')[-1].strip()\n",
    "            values.append(val)\n",
    "\n",
    "        morph_meta_params.append(\n",
    "        (int(values[0]), float(values[1]), float(values[2]), float(values[3]), \n",
    "         float(values[4]), float(values[5]), float(values[6]), float(values[7]), )\n",
    "        )"
   ]
  },
  {
   "cell_type": "code",
   "execution_count": 34,
   "metadata": {},
   "outputs": [
    {
     "data": {
      "text/plain": [
       "(52, 52)"
      ]
     },
     "execution_count": 34,
     "metadata": {},
     "output_type": "execute_result"
    }
   ],
   "source": [
    "len(morph_meta_params), len(epoch_param_acc) ### same values == 1to1 mapping"
   ]
  },
  {
   "cell_type": "code",
   "execution_count": 35,
   "metadata": {},
   "outputs": [
    {
     "data": {
      "text/plain": [
       "([(50, 2.5, 0.0003, 782.0, 0.5, 0.01, 1.0, 15.0),\n",
       "  (50, 2.5, 0.0003, 782.0, 0.5, 0.01, 1.0, 15.0),\n",
       "  (50, 2.5, 0.0003, 782.0, 0.5, 0.01, 1.0, 15.0),\n",
       "  (50, 2.5, 0.0003, 782.0, 0.5, 0.01, 1.0, 15.0),\n",
       "  (50, 2.5, 0.0003, 782.0, 0.5, 0.01, 1.0, 15.0),\n",
       "  (50, 2.5, 0.0003, 782.0, 0.5, 0.01, 1.0, 15.0),\n",
       "  (50, 2.5, 0.0003, 782.0, 0.5, 0.01, 1.0, 15.0),\n",
       "  (50, 2.5, 0.0003, 782.0, 0.5, 0.01, 1.0, 15.0),\n",
       "  (50, 2.5, 0.0003, 782.0, 0.5, 0.01, 1.0, 15.0),\n",
       "  (50, 2.5, 0.0003, 782.0, 0.5, 0.01, 1.0, 15.0),\n",
       "  (50, 2.5, 0.0003, 782.0, 0.5, 0.01, 1.0, 15.0),\n",
       "  (50, 2.5, 0.0003, 782.0, 0.5, 0.01, 1.0, 15.0),\n",
       "  (50, 2.5, 0.0003, 782.0, 0.5, 0.01, 1.0, 15.0),\n",
       "  (50, 2.5, 0.0003, 782.0, 0.5, 0.01, 1.0, 15.0),\n",
       "  (50, 2.5, 0.0003, 782.0, 0.5, 0.01, 1.0, 15.0),\n",
       "  (50, 2.5, 0.0003, 782.0, 0.5, 0.01, 1.0, 15.0),\n",
       "  (50, 2.5, 0.0003, 782.0, 0.5, 0.01, 1.0, 15.0),\n",
       "  (50, 2.5, 0.0003, 782.0, 0.5, 0.01, 1.0, 15.0),\n",
       "  (50, 2.5, 0.0003, 782.0, 0.5, 0.01, 1.0, 15.0),\n",
       "  (50, 2.5, 0.0003, 782.0, 0.5, 0.01, 1.0, 15.0),\n",
       "  (50, 2.5, 0.0003, 782.0, 0.5, 0.01, 1.0, 15.0),\n",
       "  (50, 2.5, 0.0003, 782.0, 0.5, 0.01, 1.0, 15.0),\n",
       "  (50, 2.5, 0.0003, 782.0, 0.5, 0.01, 1.0, 15.0),\n",
       "  (50, 2.5, 0.0003, 782.0, 0.5, 0.01, 1.0, 15.0),\n",
       "  (50, 2.5, 0.0003, 782.0, 0.5, 0.01, 1.0, 15.0),\n",
       "  (50, 2.5, 0.0003, 782.0, 0.5, 0.01, 1.0, 15.0),\n",
       "  (50, 2.5, 0.0003, 782.0, 0.5, 0.01, 1.0, 15.0),\n",
       "  (50, 2.5, 0.0003, 782.0, 0.5, 0.01, 1.0, 15.0),\n",
       "  (50, 2.5, 0.0003, 782.0, 0.5, 0.01, 1.0, 15.0),\n",
       "  (50, 2.5, 0.0003, 782.0, 0.5, 0.01, 1.0, 15.0),\n",
       "  (50, 2.5, 0.0003, 782.0, 0.5, 0.01, 1.0, 15.0),\n",
       "  (50, 2.5, 0.0003, 782.0, 0.5, 0.01, 1.0, 15.0),\n",
       "  (50, 2.5, 0.0003, 782.0, 0.5, 0.01, 1.0, 15.0),\n",
       "  (50, 2.5, 0.0003, 782.0, 0.5, 0.01, 1.0, 15.0),\n",
       "  (50, 2.5, 0.0003, 782.0, 0.5, 0.01, 1.0, 15.0),\n",
       "  (50, 2.5, 0.0003, 782.0, 0.5, 0.01, 1.0, 15.0),\n",
       "  (50, 2.5, 0.0003, 782.0, 0.5, 0.01, 1.0, 15.0),\n",
       "  (50, 2.5, 0.0003, 782.0, 0.5, 0.01, 1.0, 15.0),\n",
       "  (50, 2.5, 0.0003, 782.0, 0.5, 0.01, 1.0, 15.0),\n",
       "  (50, 2.5, 0.0001, 782.0, 0.5, 0.01, 1.0, 15.0),\n",
       "  (50, 2.5, 0.0001, 782.0, 0.5, 0.01, 1.0, 15.0),\n",
       "  (50, 2.5, 0.0001, 782.0, 0.5, 0.01, 1.0, 15.0),\n",
       "  (50, 2.5, 0.0001, 782.0, 0.5, 0.01, 1.0, 15.0),\n",
       "  (50, 2.5, 0.0001, 782.0, 0.5, 0.01, 1.0, 15.0),\n",
       "  (50, 2.5, 0.0001, 782.0, 0.5, 0.01, 1.0, 15.0),\n",
       "  (50, 2.5, 0.0001, 782.0, 0.5, 0.01, 1.0, 15.0),\n",
       "  (50, 2.5, 0.0001, 782.0, 0.5, 0.01, 1.0, 15.0),\n",
       "  (50, 2.5, 0.0001, 782.0, 0.5, 0.01, 1.0, 15.0),\n",
       "  (50, 2.5, 0.0001, 782.0, 0.5, 0.01, 1.0, 15.0),\n",
       "  (50, 2.5, 0.0001, 782.0, 0.5, 0.01, 1.0, 15.0),\n",
       "  (50, 2.5, 0.0001, 782.0, 0.5, 0.01, 1.0, 15.0),\n",
       "  (50, 2.5, 0.0001, 782.0, 0.5, 0.01, 1.0, 15.0)],\n",
       " array([ 15.,  20.,  36.,  41.,  57.,  62.,  66.,  71.,  74.,  79.,  95.,\n",
       "        100., 116., 121., 137., 142., 158., 163., 179., 184., 200., 205.,\n",
       "        221., 226., 242., 247., 263., 268., 284., 289., 305., 310., 326.,\n",
       "        331., 347., 352., 368., 373., 389., 394., 410., 415., 431., 436.,\n",
       "        439., 444., 460., 465., 469., 474., 477., 482.]),\n",
       " array([21.72, 22.5 , 30.94, 31.06, 37.99, 37.31, 37.34, 41.64, 41.68,\n",
       "        44.63, 48.83, 48.43, 52.57, 51.15, 54.55, 53.4 , 56.75, 55.51,\n",
       "        58.49, 56.74, 59.41, 58.02, 60.56, 58.13, 60.88, 59.6 , 60.79,\n",
       "        60.16, 61.65, 60.65, 62.81, 61.69, 63.82, 61.57, 63.22, 60.76,\n",
       "        63.26, 61.72, 64.11, 64.13, 65.82, 63.98, 65.94, 63.86, 63.88,\n",
       "        62.78, 65.04, 64.16, 63.77, 64.57, 64.4 , 63.1 ]))"
      ]
     },
     "execution_count": 35,
     "metadata": {},
     "output_type": "execute_result"
    }
   ],
   "source": [
    "morph_meta_params, epoch_param_acc[:,0], epoch_param_acc[:,2]"
   ]
  },
  {
   "cell_type": "code",
   "execution_count": 36,
   "metadata": {},
   "outputs": [],
   "source": [
    "morph_meta_params = np.array(morph_meta_params)"
   ]
  },
  {
   "cell_type": "code",
   "execution_count": 38,
   "metadata": {},
   "outputs": [
    {
     "data": {
      "image/png": "[encoded data removed]",
      "text/plain": [
       "<Figure size 576x288 with 4 Axes>"
      ]
     },
     "metadata": {
      "needs_background": "light"
     },
     "output_type": "display_data"
    }
   ],
   "source": [
    "### Plotting meta parameters\n",
    "# plt.figure(figsize=(8, 6))\n",
    "fig, axes = plt.subplots(2,2, figsize=(8, 4), constrained_layout=True)\n",
    "(ax00, ax01), (ax10, ax11) = axes\n",
    "\n",
    "\n",
    "# ax00 = plt.subplot(221)\n",
    "epochs = epoch_param_acc[:,0]\n",
    "num_add = morph_meta_params[:, 0]\n",
    "ax00.plot(epochs, num_add)\n",
    "ax00.set_ylabel(\"num neurons add\")\n",
    "# plt.show()\n",
    "\n",
    "# ax01 = plt.subplot(222)\n",
    "add2rem = morph_meta_params[:,1]\n",
    "ax01.plot(epochs, add2rem)\n",
    "ax01.plot(epochs, add2rem*0+1, linestyle='dashed', alpha=0.5) ## plotting straight line\n",
    "ax01.set_ylabel(\"add to remove ratio\")\n",
    "# plt.show()\n",
    "\n",
    "# ax10 = plt.subplot(223)\n",
    "lr = morph_meta_params[:,2]\n",
    "ax10.plot(epochs, lr)\n",
    "ax10.set_ylabel(\"learning rate\")\n",
    "# plt.show()\n",
    "\n",
    "# ax11 = plt.subplot(224)\n",
    "trmax = morph_meta_params[:,7]\n",
    "ax11.plot(epochs, trmax)\n",
    "ax11.set_ylabel(\"train epoch max\")\n",
    "\n",
    "plt.savefig(\"./meta-params_c100.pdf\", bbox_inches='tight')\n",
    "plt.show()"
   ]
  },
  {
   "cell_type": "code",
   "execution_count": null,
   "metadata": {},
   "outputs": [],
   "source": []
  }
 ],
 "metadata": {
  "kernelspec": {
   "display_name": "Python 3",
   "language": "python",
   "name": "python3"
  },
  "language_info": {
   "codemirror_mode": {
    "name": "ipython",
    "version": 3
   },
   "file_extension": ".py",
   "mimetype": "text/x-python",
   "name": "python",
   "nbconvert_exporter": "python",
   "pygments_lexer": "ipython3",
   "version": "3.7.4"
  }
 },
 "nbformat": 4,
 "nbformat_minor": 4
}
